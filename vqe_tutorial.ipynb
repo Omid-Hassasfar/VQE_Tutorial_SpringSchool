{
  "cells": [
    {
      "cell_type": "markdown",
      "metadata": {
        "id": "KPg60LR6Z1Vj"
      },
      "source": [
        " # Variational quantum circuits tutorial\n",
        "\n",
        "  In this tutorial you will create your own variational quantum eigensolver (VQE) algorithm. You will also see how to apply it to find the ground state energy of the transverse field Ising model. All of the python libraries you will need for this tutorial are listed bellow."
      ]
    },
    {
      "cell_type": "code",
      "execution_count": null,
      "metadata": {
        "id": "VJXLpiINZ1Vm"
      },
      "outputs": [],
      "source": [
        "import numpy as np\n",
        "import sympy as sp\n",
        "import scipy as sc\n",
        "import matplotlib.pyplot as plt\n",
        "from collections import namedtuple\n",
        "from functools import reduce"
      ]
    },
    {
      "cell_type": "markdown",
      "metadata": {
        "id": "EJdWnEXGZ1Vm"
      },
      "source": [
        " ### Bring Your Own Simulator"
      ]
    },
    {
      "cell_type": "code",
      "execution_count": null,
      "metadata": {
        "id": "ztSTYkX-Z1Vn"
      },
      "outputs": [],
      "source": [
        "# Configuration\n",
        "Instruction = namedtuple(\"Instruction\", \"gate bits symbols\")\n",
        "ket0, ket1 = np.array([1, 0]), np.array([0, 1])\n",
        "\n",
        "\n",
        "def simulate_shots(psi, n_shots):\n",
        "    # We will come back to this later.\n",
        "    pass\n",
        "\n",
        "\n",
        "def variational_quantum_simulator(program, nq, initial_qubits=None, symbols=None):\n",
        "    if initial_qubits is None:\n",
        "        initial_qubits = [ket0] * nq\n",
        "    state = initial_qubits[0]\n",
        "    for qubit in initial_qubits[1:]:\n",
        "        state = np.array(np.kron(state, qubit))\n",
        "    state = state.reshape([2 for i in range(nq)])\n",
        "    for instruction in program:\n",
        "        u = instruction.gate\n",
        "        bits = instruction.bits\n",
        "        instruction_symbols = instruction.symbols\n",
        "        if len(u.shape) == 2:\n",
        "            # if u is provided as a matrix, we turn it into the correct tensor\n",
        "            n_inputs = len(bits)\n",
        "            idx_range = int(\n",
        "                u.shape[0] ** (1 / n_inputs)\n",
        "            )  # matrix is square so we can take first or second axis\n",
        "            if isinstance(u, sp.Matrix):\n",
        "                # convert to numpy matrix\n",
        "                f = sp.lambdify(list(u.free_symbols), u, \"numpy\")\n",
        "                u = f(*[symbols[symbol] for symbol in instruction_symbols])\n",
        "            u = u.reshape([idx_range for i in range(n_inputs * 2)])\n",
        "        state = np.tensordot(state, u, axes=[bits, [i for i in range(len(bits))]])\n",
        "        # tensordot reorders the tensor to uncontracted+contracted and we want the original, so we undo their reording:\n",
        "        current_order = [bit for bit in range(nq) if bit not in bits] + bits\n",
        "        state = state.transpose([current_order.index(i) for i in range(nq)])\n",
        "    return state\n",
        "\n"
      ]
    },
    {
      "cell_type": "markdown",
      "metadata": {
        "id": "vNd5R70-Z1Vn"
      },
      "source": [
        " ### Gate primitives\n",
        " Let's create primitive operations for our quantum computer, first we'll create non-parametric gates.\n",
        "\n",
        " Give the definition of Identity, PauliX, PauliY, PauliZ, Hadamard and CNOT gates as numpy arrays (by replacing the None values below)."
      ]
    },
    {
      "cell_type": "code",
      "execution_count": null,
      "metadata": {
        "id": "clhltvN8Z1Vn"
      },
      "outputs": [],
      "source": [
        "# Operations\n",
        "I = None\n",
        "X = None\n",
        "Y = None\n",
        "Z = None\n",
        "H = None\n",
        "CN = None\n"
      ]
    },
    {
      "cell_type": "markdown",
      "metadata": {
        "id": "3hzbWN4VZ1Vo"
      },
      "source": [
        "Our simulator handles parameterised gates as sympy matrices and explicit gates, like the ones above, as numpy arrays.\n",
        "\n",
        "Now for the parametric gates, we'll create a general rotation gate as a function that takes in a Pauli matrix (X,Y or Z) and returns the exponential of that pauli, i.e. $e^{-i\\theta\\sigma_k}, \\forall  k \\in \\{x,y,z\\}$. Note that *inner angles* should have a factor of two. Calling `Rs` with Pauli `X`, for example, should yield the following output:\n",
        " ```python\n",
        " Rs(X)\n",
        " Matrix([\n",
        " [   cos(θ/2), -I*sin(θ/2)],\n",
        " [-I*sin(θ/2),    cos(θ/2)]])\n",
        " ```\n",
        " Note that a sp.Matrix object is returned with a symbol called θ"
      ]
    },
    {
      "cell_type": "code",
      "execution_count": null,
      "metadata": {
        "id": "7YtAnKVhZ1Vo"
      },
      "outputs": [],
      "source": [
        "x0 = sp.symbols(\"θ\")  # The unicode for θ us u03B8\n",
        "Rs = None"
      ]
    },
    {
      "cell_type": "markdown",
      "metadata": {
        "id": "9DiM9zy8Z1Vp"
      },
      "source": [
        " ### Quantum programming\n",
        " Now we can write some quantum programs. Whether quantum or classical, a program is just a list of instructions. Our simulator expects just that, we define a program as a python list where the elements are Instructions. We've provided an `Instruction` class using python's namedtuple at the top of the file (it's just a fancy list). You can instantiate single instructions by:\n",
        " - providing the gate as a numpy (if explicit) or sympy (if parametric) matrix,\n",
        " - a list containing the qubit indices that the gate acts on\n",
        " - and individual symbols, if it is a parametric gate.\n",
        "\n",
        " For example, applying hadamard on qubits 2 and 3 (using indices starting at 0):\n",
        " ```python\n",
        " instruction1 = Instruction(H, [2], None)\n",
        " instruction2 = Instruction(H, [3], None)\n",
        " ```\n",
        " Two qubit gates, like $CN_{70}$ (a cnot with qubit 7 as control and qubit 0 as target)\n",
        " looks like:\n",
        " ```python\n",
        " instruction3 = Instruction(CN, [7, 0], None)\n",
        " ```\n",
        " An example of a parameterised instruction is applying an Rx gate on the qubit at index 4\n",
        " ```python\n",
        " x0 = sp.symbols(\"x0\")\n",
        " instruction4 = Instruction(Rs(X), [4], [x0])\n",
        " ```\n",
        "\n",
        " Finally, if you want to create a program that runs the above instructions on the initial state is $|{00\\cdots0}\\rangle$, and gets the final statevector, you can do the following:\n",
        " ```python\n",
        " program = [instruction1, instruction2, instruction3, instruction4]\n",
        " nq = 8\n",
        " initial_qubits = [ket0] * nq\n",
        " psi = variational_quantum_simulator(program, nq, initial_qubits)\n",
        " ```\n",
        " Study the two programs below and see if their outputs make sense to you."
      ]
    },
    {
      "cell_type": "code",
      "execution_count": null,
      "metadata": {
        "id": "-e9Veb4nZ1Vp"
      },
      "outputs": [],
      "source": [
        "instruction1 = Instruction(X, [0], None)\n",
        "instruction2 = Instruction(X, [3], None)\n",
        "instruction3 = Instruction(CN, [3, 0], None)\n",
        "program1 = [instruction1, instruction2]\n",
        "program2 = [instruction1, instruction2, instruction3]\n",
        "\n",
        "\n",
        "nq = 5\n",
        "initial_qubits = [ket0] * nq\n",
        "# Do nothing\n",
        "psi = variational_quantum_simulator([], nq, initial_qubits)\n",
        "print(np.where(psi == 1))\n",
        "\n",
        "nq = 5\n",
        "initial_qubits = [ket0] * nq\n",
        "# Run program1\n",
        "psi = variational_quantum_simulator(program1, nq, initial_qubits)\n",
        "print(np.where(psi == 1))\n",
        "\n",
        "nq = 5\n",
        "initial_qubits = [ket0] * nq\n",
        "# Run program2\n",
        "psi = variational_quantum_simulator(program2, nq, initial_qubits)\n",
        "print(np.where(psi == 1))"
      ]
    },
    {
      "cell_type": "markdown",
      "metadata": {
        "id": "dUODeySmZ1Vp"
      },
      "source": [
        " ## Variational Quantum Eigensolver\n",
        "\n",
        " We are now ready to apply the Variational Quantum Eigensolver (VQE) to obtain the ground state energy of a Hamiltonian $H$, that is an eigenstate of $H$ corresponding to minimal energy. In this tutorial we will apply VQE to the transverse field Ising model. VQE is a hybrid quantum-classical algorithm where a quantum computer aids in the calculation of expectation values of observables. The quantum computer is used to prepare a trial state $|{\\psi(\\theta)}\\rangle$ where $\\theta$ is determined classically according to the goal of minimizing the expectation value of the energy with respect to $|{\\psi(\\theta)}\\rangle$, $E = \\langle{\\psi(\\theta)}|H|{\\psi(\\theta)}\\rangle$. Finding the parameter(s) $\\theta$ for which $E$ is minimum allows us to estimate the groundstate $|{g}\\rangle$ of $H$, i.e. where $H|{g}\\rangle=E_g|{g}\\rangle$ and where any state $|{\\psi(\\theta)}\\rangle$ parameterised by $\\theta$ satisfies $\\langle{\\psi(\\theta)}|H|{\\psi(\\theta)}\\rangle\\geq E_g$. This is called the variational principle."
      ]
    },
    {
      "cell_type": "markdown",
      "metadata": {
        "id": "L9JUOlZ5Z1Vp"
      },
      "source": [
        " ### The transverse field Ising model\n",
        " The model we consider is a one dimensional Ising model with a transverse field on a chain lattice with periodic boundary conditions:\n",
        " $$H=-\\frac{J}{4}\\sum_{\\langle ij \\rangle} \\sigma_i^z \\sigma_j^z -\\frac{h}{2}\\sum_i \\sigma_i^x \\,,$$\n",
        "  where $\\langle ij \\rangle$ refers to nearest neighbours, $J$ is the coupling strength and $h$ is the strength of the transverse field. We will consider the case where $J=1$ (our units of energy) and $h\\in[0,2.2]$. To compute $\\langle{\\psi}| H |{\\psi}\\rangle$ we make use of linearity, and split up the computation as follows: $$\\langle{\\psi|H|\\psi}\\rangle=-\\frac{J}{4}\\sum_{\\langle ij \\rangle}\\langle{\\psi|\\sigma^z_i\\sigma^z_j|\\psi}\\rangle-\\frac{h}{2}\\sum_i\\langle{\\psi|\\sigma^x_i|\\psi}\\rangle$$ Our prescription to apply VQE is then as follows:\n",
        " - Pick a circuit ansatz $U(\\theta)$ s.t. $U(\\theta)|{00\\cdots0}\\rangle=|{\\psi(\\theta)}\\rangle$.\n",
        " - Execute the circuit and use the final state vector to simulate measurements in the computational basis, i.e. compute the frequency distribution for the state $|{\\psi(\\theta)}\\rangle$ for $N$ repetitions of the experiment.\n",
        "   - Use the frequency distribution to calculate $\\langle{\\psi|\\sigma^z_i\\sigma^z_j|\\psi}\\rangle$. For example, consider a two qubit state where $\\sigma^z\\otimes\\sigma^z |{ij}\\rangle = (-1)^{i+j}|{ij}\\rangle$ so that $$\\langle{\\psi|\\sigma^z_i\\sigma^z_j|\\psi}\\rangle = \\frac{1}{N}\\sum_{i,j=0}^1 (-1)^{i+j}f_{ij}|{ij}\\rangle\\,.$$\n",
        " - Execute the same circuit but with a cycle of hadamards applied to each qubit before measurement, to simulate a measurement in the X basis.\n",
        "   - Use the frequency distribution to calculate $\\langle{\\psi|\\sigma^x_i|\\psi}\\rangle$.\n",
        " - Multiply and add the terms with the correct constants to get $\\langle{\\psi|H|\\psi}\\rangle$.\n",
        " - Update $\\theta$ and repeat until $\\langle{\\psi|H|\\psi}\\rangle$ is minimised."
      ]
    },
    {
      "cell_type": "markdown",
      "metadata": {
        "id": "dV6XR0tdZ1Vq"
      },
      "source": [
        " ### Circuit ansatz\n",
        " We now make an educated guess for the structure of $U(\\theta)$ and then implement it with our simulator. Our guess is based on the observation that the Hamiltonian is invariant under a global bit flip (spin flip). Consider the unitary $U=\\prod_i \\sigma^x_i$ that flips all the qubits simultaneously. We have that:\n",
        " - $U^\\dagger\\sigma^z_jU=\\sigma^x_j \\sigma^z_j \\sigma^x_j =i\\sigma^x_j\\sigma^y_j=ii\\sigma^z_j=-\\sigma^z_j$\n",
        "    - There's two $\\sigma^z$ terms in the Ising part and so the minus cancels in each case.\n",
        " - $U^\\dagger\\sigma^x_jU=\\sigma^x_j \\sigma^x_j \\sigma^x_j =\\sigma^x_j$\n",
        "\n",
        " Therefore $U^\\dagger HU=H\\implies HU=UH$, meaning they commute.\n",
        "\n",
        "Now consider a groundstate $|{g}\\rangle$ of the Hamiltonian, $H|{g}\\rangle=E|{g}\\rangle$, and note that\n",
        "$$H(U|{g}\\rangle) = UH|{g}\\rangle=E_g(U|{g}\\rangle)\\,,$$\n",
        "so that $U|{g}\\rangle$ is also a groundstate of $H$ with the same eigenvalue $E_g$ (i.e. the groundstate is degenerate, which leads to interesting things like spontaneous symmetry breaking). When the driving field is switched off, i.e. $h=0$, both $|{00\\cdots0}\\rangle$ and $|{11\\cdots1}\\rangle$ are valid groundstates of the transverse field Ising model (we take this as given and leave the proof as an exercise to the reader). We will use a superposition of these two states $\\alpha|{00\\cdots0}\\rangle+\\beta|{11\\cdots1}\\rangle$ as a starting point for our ansatz. While it is not a groundstate of $H$ for $h\\neq0$, we can assume that it is closer to the groundstate than some completely randomly initialized state.\n",
        "\n",
        "Below we describe how we will compute the circuits need to compute the expectation values of the Hamiltonian with respect to $|{\\psi(\\theta)}\\rangle$.\n",
        "\n",
        " The `program_zz` (Ising part - pairwise interactions):\n",
        "- Initial state is $|{00\\cdots0}\\rangle$.\n",
        "- Apply a general rotation on the first qubit to obtain $\\alpha|{00\\cdots0}\\rangle+\\beta|{100\\cdots 0}\\rangle$.\n",
        "   - A example of a general rotation on the first qubit is $Rz(x_0)Ry(x_1)|{00\\cdots0}\\rangle=\\cos(\\frac{x_1}{2})|{00\\cdots0}\\rangle+\\sin(\\frac{x_1}{2})e^{ix_0}|{100\\cdots0}\\rangle$.\n",
        "- Apply a cycle of cnots to obtain $\\alpha|{00\\cdots0}\\rangle+\\beta|{11\\cdots1}\\rangle$.\n",
        "   - This is given by $\\text{CN}_{(n-1)n}\\cdots\\text{CN}_{12}\\text{CN}_{01}|{\\psi}\\rangle$, where $\\text{CN}_{ij}$ means the $i$ th qubit is the control and the $j$ th qubit is the target.\n",
        "- Apply $Ry(x_2)$ on each qubit.\n",
        "   - This will increase the expressivity of our ansatz.\n",
        "\n",
        "\n",
        " The `program_x` (transverse field):\n",
        "- Do `program_zz`\n",
        "- Apply one a cycle of hadamards (one hadamard gate applied on each qubit) to simulate a measurement in the X basis.\n"
      ]
    },
    {
      "cell_type": "code",
      "execution_count": null,
      "metadata": {
        "id": "7JuiAz4gZ1Vq"
      },
      "outputs": [],
      "source": [
        "# use these symbols\n",
        "# symbol_list = sp.symbols(\"x0:3\")\n",
        "x0 = sp.symbols(\"x0\")\n",
        "x1 = sp.symbols(\"x1\")\n",
        "x2 = sp.symbols(\"x2\")\n",
        "symbol_list = [x0,x1,x2]\n",
        "\n",
        "# Specify number of qubits\n",
        "nq = 4\n",
        "\n",
        "program_zz = None\n",
        "program_x = None"
      ]
    },
    {
      "cell_type": "markdown",
      "metadata": {
        "id": "6c9QpvJRZ1Vq"
      },
      "source": [
        "### Objective function\n",
        "Now it's time to compute the expectation value of our Hamiltonian with respect to $|{\\psi}\\rangle$. We do this in a function that receives a particular set of `symbols_values` (as will be determined by the optimizer) for $|{\\psi}\\rangle$. Our first job is to emulate the experimental set-up. Notice our circuit simulator returns a statevector. In an experiment this would not be the case, we would instead have a set of measurement outcomes (1 and -1 values that allow us to distinguish the states $|{0}\\rangle, |{1}\\rangle$) for each qubit, with the size of this set depending on the number of times the experiment was repeated.\n",
        "\n",
        "Create the function `simulate_shots` (top of page) that takes in a statevector `psi` and the number of shots (experiments) and returns a dictionary with the measured state as keys and the measurement counts as the values. Ensure that only positive measurement counts are returned.\n",
        "\n",
        "\n",
        "For example, the state $|{\\psi}\\rangle=\\frac{1}{\\sqrt{3}}|{000}\\rangle+\\frac{1}{\\sqrt{6}}|{011}\\rangle-\\frac{1}{\\sqrt{2}}|{101}\\rangle$ should yield the following dictionary:\n",
        "```python\n",
        "simulate_shots(psi,1000)\n",
        "{(0, 0, 0): 333.0, (0, 1, 1): 167.0, (1, 0, 1): 500.0}\n",
        "```\n",
        "\n",
        "Next use the outcomes `get_shots_zz` and `get_shots_x`, shown bellow, to calculate $\\sum_{\\langle{ij}\\rangle}\\langle{\\sigma^z_i\\sigma^z_j}\\rangle \\text{ and } \\sum_{i} \\langle{\\sigma^x_i}\\rangle$.\n",
        "\n",
        " **Remember to multiply them with the correct constants**, i.e. measurement outcome, see section *the transverse field Ising model*. Also remember that we are considering **periodic boundary conditions** for our 1d chan, therefore the $n$ th and first qubit are connected."
      ]
    },
    {
      "cell_type": "code",
      "execution_count": null,
      "metadata": {
        "id": "OiCQ3VhwZ1Vq"
      },
      "outputs": [],
      "source": [
        "def objective_function(symbols_vals, h, J=1, n_shots=1000):\n",
        "    symbols = {symbol_list[i]: symbols_vals[i] for i in range(len(symbols_vals))}\n",
        "    psi_zz = variational_quantum_simulator(program_zz, nq, symbols=symbols)\n",
        "    psi_x = variational_quantum_simulator(program_x, nq, symbols=symbols)\n",
        "    get_shots_zz = simulate_shots(psi_zz, n_shots)\n",
        "    get_shots_x = simulate_shots(psi_x, n_shots)\n",
        "\n",
        "    # calculate expectation values\n",
        "    exp_zz = None\n",
        "    exp_x = None\n",
        "    ising_e = J * (-1 / 4) * exp_zz\n",
        "    tansverse_e = h * (-1 / 2) * exp_x\n",
        "\n",
        "    return ising_e + tansverse_e\n",
        "\n"
      ]
    },
    {
      "cell_type": "markdown",
      "metadata": {
        "id": "cs1gkYjkZ1Vq"
      },
      "source": [
        " ### Optimisation\n",
        " Below is an example of the optimisation loop, we use scipy's COBYLA optimizer and enumerate possible $h$ values ($J$ is fixed at one since only the relative magnitudes of $h$ and $J$ is important). A potential issue with this method is that we might get stuck in a local minima. Update the code below by adding an inner loop that runs the optimizer 10 times using different `symbol_vals` and picks the best result for each value $h$. This best result can then be appended to the `results_site` list.\n",
        "\n",
        " We are interrested in the average energy per site (we'll compare it to the exact solution), so we divide the resulting energy by the number of qubits: `result.fun/ nq`"
      ]
    },
    {
      "cell_type": "code",
      "execution_count": null,
      "metadata": {
        "id": "grjvEVPWZ1Vr"
      },
      "outputs": [],
      "source": [
        "h_vals = np.arange(0.01, 2.2, 0.2)\n",
        "results_site = []\n",
        "for h in h_vals:\n",
        "    symbol_vals = 2 * np.pi * np.random.uniform(size=3)\n",
        "    result = sc.optimize.minimize(\n",
        "        objective_function,\n",
        "        symbol_vals,\n",
        "        args=(h),\n",
        "        method=\"COBYLA\",\n",
        "        options={\"maxiter\": 20},\n",
        "    )\n",
        "    # result.fun is the energy value and we consider average energy per site\n",
        "    results_site.append(result.fun/ nq)\n",
        "    print(result.fun / nq)\n"
      ]
    },
    {
      "cell_type": "markdown",
      "metadata": {
        "id": "7iOpvS-wZ1Vr"
      },
      "source": [
        " ### Visualisation\n",
        " Finally let's visualise our results. Bellow we plot the energy per site vs the magnetic field strength. We also plot the exact solution (numerically integrated) for comparison."
      ]
    },
    {
      "cell_type": "code",
      "execution_count": null,
      "metadata": {
        "id": "dJ_1aVljZ1Vr"
      },
      "outputs": [],
      "source": [
        "plt.plot(h_vals, results_site, \"m--o\")\n",
        "plt.xlabel(\"transverse field $B [J]$\")\n",
        "plt.ylabel(\"groundstate energy per site $E_{0}/N [J]$\")\n",
        "plt.show()\n",
        "\n",
        "def num_integrate_gs(B):\n",
        "    \"\"\"\n",
        "    numerically integrate exact band to get gs energy of TIM\n",
        "    this should give -E_0/(N*J) by Pfeufy\n",
        "    Here set J=1 (units of energy)\n",
        "    \"\"\"\n",
        "    # lamba_ratio (setting J=1): compare thesis\n",
        "    ll = 1 / (2 * B)\n",
        "\n",
        "    # set energy\n",
        "    gs_energy = 0\n",
        "\n",
        "    # numerical integration\n",
        "    step_size = 0.0001\n",
        "    k_values = np.arange(0, np.pi, step_size)\n",
        "    integration_values = [\n",
        "        step_size * np.sqrt(1 + ll**2 + 2 * ll * np.cos(kk)) for kk in k_values\n",
        "    ]\n",
        "    integral = np.sum(integration_values)\n",
        "    gs_energy = 1 * integral / (4 * np.pi * ll)\n",
        "\n",
        "    return gs_energy\n",
        "\n",
        "\n",
        "# plot exact gs energy of TIM vs VQE results\n",
        "x = np.arange(0.01, 2.2, 0.2)\n",
        "y = [-1 * num_integrate_gs(xx) for xx in x]\n",
        "# plot exact results\n",
        "plt.plot(x, y, \"b--s\", label=\"exact\")\n",
        "# plot vqe results\n",
        "plt.plot(h_vals, results_site, \"m--o\", label=\"VQE\")\n",
        "plt.xlabel(\"magnetic field $B [J]$\")\n",
        "plt.ylabel(\"groundstate energy $E_{0}/N [J]$\")\n",
        "plt.tight_layout()\n",
        "plt.legend()"
      ]
    },
    {
      "cell_type": "code",
      "execution_count": null,
      "metadata": {
        "id": "owjxKNNWZ1Vr"
      },
      "outputs": [],
      "source": []
    }
  ],
  "metadata": {
    "kernelspec": {
      "display_name": "Python 3 (ipykernel)",
      "language": "python",
      "name": "python3"
    },
    "language_info": {
      "codemirror_mode": {
        "name": "ipython",
        "version": 3
      },
      "file_extension": ".py",
      "mimetype": "text/x-python",
      "name": "python",
      "nbconvert_exporter": "python",
      "pygments_lexer": "ipython3",
      "version": "3.10.12"
    },
    "colab": {
      "provenance": []
    }
  },
  "nbformat": 4,
  "nbformat_minor": 0
}